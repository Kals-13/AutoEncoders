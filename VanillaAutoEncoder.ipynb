{
  "nbformat": 4,
  "nbformat_minor": 0,
  "metadata": {
    "colab": {
      "name": "CNNautoencoder.ipynb",
      "provenance": [],
      "authorship_tag": "ABX9TyNMlmv3bTdzqjvXZXd+cgSj",
      "include_colab_link": true
    },
    "kernelspec": {
      "name": "python3",
      "display_name": "Python 3"
    }
  },
  "cells": [
    {
      "cell_type": "markdown",
      "metadata": {
        "id": "view-in-github",
        "colab_type": "text"
      },
      "source": [
        "<a href=\"https://colab.research.google.com/github/Kals-13/AutoEncoders/blob/main/VanillaAutoEncoder.ipynb\" target=\"_parent\"><img src=\"https://colab.research.google.com/assets/colab-badge.svg\" alt=\"Open In Colab\"/></a>"
      ]
    },
    {
      "cell_type": "code",
      "metadata": {
        "colab": {
          "base_uri": "https://localhost:8080/"
        },
        "id": "7p2zh31loFIA",
        "outputId": "22ebfcbf-0b3c-482d-99d2-edc78352cf29"
      },
      "source": [
        "from google.colab import drive\r\n",
        "drive.mount('/content/gdrive', force_remount=True)"
      ],
      "execution_count": 1,
      "outputs": [
        {
          "output_type": "stream",
          "text": [
            "Mounted at /content/gdrive\n"
          ],
          "name": "stdout"
        }
      ]
    },
    {
      "cell_type": "code",
      "metadata": {
        "id": "_j2FGtR-oNn9"
      },
      "source": [
        "import torch\r\n",
        "import torchvision\r\n",
        "import torchvision.transforms as transform\r\n",
        "import torch.nn as nn\r\n",
        "import torch.optim as optim\r\n",
        "import torch.nn.functional as F\r\n",
        "import numpy as np\r\n",
        "import matplotlib.pyplot as plt\r\n",
        "import pandas as pd\r\n",
        "import cv2"
      ],
      "execution_count": 2,
      "outputs": []
    },
    {
      "cell_type": "code",
      "metadata": {
        "id": "7AjHst9Iq0aN"
      },
      "source": [
        "path = '/content/gdrive/MyDrive/MNIST dataset'\r\n",
        "train_set_csv = pd.read_csv(f'{path}/train.csv')"
      ],
      "execution_count": 3,
      "outputs": []
    },
    {
      "cell_type": "code",
      "metadata": {
        "id": "WFC7DCsRrLib"
      },
      "source": [
        "device = torch.device('cuda' if torch.cuda.is_available() else 'cpu')"
      ],
      "execution_count": 4,
      "outputs": []
    },
    {
      "cell_type": "code",
      "metadata": {
        "id": "mK4SJ88BsSQl"
      },
      "source": [
        "train_set = train_set_csv.iloc[:, 1:]\r\n",
        "train_set = train_set.values.reshape(-1, 28, 28, 1)\r\n",
        "train_images = torch.Tensor(train_set).permute(0, 3, 1, 2)"
      ],
      "execution_count": 5,
      "outputs": []
    },
    {
      "cell_type": "code",
      "metadata": {
        "colab": {
          "base_uri": "https://localhost:8080/",
          "height": 282
        },
        "id": "JJbS22fgtylY",
        "outputId": "5050425e-27a1-4493-8aeb-c575293ef2de"
      },
      "source": [
        "plt.imshow(np.squeeze(train_set[67]), cmap='gray', vmin=0, vmax=255)"
      ],
      "execution_count": 6,
      "outputs": [
        {
          "output_type": "execute_result",
          "data": {
            "text/plain": [
              "<matplotlib.image.AxesImage at 0x7f6710deaa58>"
            ]
          },
          "metadata": {
            "tags": []
          },
          "execution_count": 6
        },
        {
          "output_type": "display_data",
          "data": {
            "image/png": "[encoded data removed]",
            "text/plain": [
              "<Figure size 432x288 with 1 Axes>"
            ]
          },
          "metadata": {
            "tags": [],
            "needs_background": "light"
          }
        }
      ]
    },
    {
      "cell_type": "code",
      "metadata": {
        "id": "H1KTKPUXyv1d"
      },
      "source": [
        "class AutoEncoder(nn.Module):\r\n",
        "    def __init__(self):\r\n",
        "        super(AutoEncoder, self).__init__()\r\n",
        "\r\n",
        "        self.encoder = nn.Sequential(\r\n",
        "            nn.Conv2d(1, 16, kernel_size=3, stride=2, padding=1),\r\n",
        "            nn.ReLU(),\r\n",
        "            nn.Conv2d(16, 32, kernel_size=3),\r\n",
        "            nn.ReLU(),\r\n",
        "        )\r\n",
        "\r\n",
        "        self.decoder = nn.Sequential(\r\n",
        "            nn.ConvTranspose2d(32, 16, kernel_size=3, stride=1),\r\n",
        "            nn.ReLU(),\r\n",
        "            nn.ConvTranspose2d(16, 1, kernel_size=4, stride=2, padding=1),\r\n",
        "            nn.ReLU(),\r\n",
        "        )\r\n",
        "    def forward(self, X):\r\n",
        "        return self.decoder(self.encoder(X))"
      ],
      "execution_count": 7,
      "outputs": []
    },
    {
      "cell_type": "code",
      "metadata": {
        "id": "aPk9q6EbXnzJ"
      },
      "source": [
        "loss_fn = nn.MSELoss()\r\n",
        "num_epochs = 6\r\n",
        "batch_size = 128\r\n",
        "model = AutoEncoder()\r\n",
        "optimiser = torch.optim.Adam(model.parameters(), lr=0.001)"
      ],
      "execution_count": 8,
      "outputs": []
    },
    {
      "cell_type": "code",
      "metadata": {
        "id": "Wsuw8NYFXvrV"
      },
      "source": [
        "def train_model(X):\r\n",
        "    train_loss = []\r\n",
        "    for epoch in range(1, num_epochs+1):\r\n",
        "        cost_per_epoch = 0\r\n",
        "        permutation = torch.randperm(X.shape[0])\r\n",
        "        for i in range(0, X.shape[0], batch_size):\r\n",
        "            indices = permutation[i : i+batch_size]\r\n",
        "            mini_batch = X[indices]\r\n",
        "\r\n",
        "            output = model(mini_batch)\r\n",
        "            optimiser.zero_grad()\r\n",
        "            loss = loss_fn(output, mini_batch)\r\n",
        "            cost_per_epoch += loss.item() \r\n",
        "            loss.backward()\r\n",
        "            optimiser.step()\r\n",
        "        avg_loss = cost_per_epoch / X.shape[0]\r\n",
        "        print(\"Loss after iteration \", epoch, \" is \", avg_loss)\r\n",
        "        train_loss.append(avg_loss)\r\n",
        "    plt.plot(train_loss)\r\n",
        "    plt.ylabel('cost')\r\n",
        "    plt.xlabel('epochs')\r\n",
        "    plt.show()\r\n",
        "    return train_loss"
      ],
      "execution_count": 9,
      "outputs": []
    },
    {
      "cell_type": "code",
      "metadata": {
        "colab": {
          "base_uri": "https://localhost:8080/",
          "height": 380
        },
        "id": "qnrldxhjbiFO",
        "outputId": "c22abee9-2798-4293-bb9f-af79e41e3864"
      },
      "source": [
        "model = model.to(device)\r\n",
        "train_loss = train_model(train_images)"
      ],
      "execution_count": 10,
      "outputs": [
        {
          "output_type": "stream",
          "text": [
            "Loss after iteration  1  is  6.961503146398635\n",
            "Loss after iteration  2  is  0.19149562985556468\n",
            "Loss after iteration  3  is  0.10962913903735932\n",
            "Loss after iteration  4  is  0.0796642575945173\n",
            "Loss after iteration  5  is  0.06512510669799078\n",
            "Loss after iteration  6  is  0.06160981760138557\n"
          ],
          "name": "stdout"
        },
        {
          "output_type": "display_data",
          "data": {
            "image/png": "[encoded data removed]",
            "text/plain": [
              "<Figure size 432x288 with 1 Axes>"
            ]
          },
          "metadata": {
            "tags": [],
            "needs_background": "light"
          }
        }
      ]
    },
    {
      "cell_type": "code",
      "metadata": {
        "id": "A6INvOgPg7t3"
      },
      "source": [
        "def visualise_results(X):\r\n",
        "    images = X.numpy()\r\n",
        "    _, axs = plt.subplots(1, 10)\r\n",
        "    for img, ax in zip(train_set, axs):\r\n",
        "        ax.imshow(np.squeeze(img), cmap='gray', vmin=0, vmax=255)\r\n",
        "        ax.set_yticklabels([])\r\n",
        "        ax.set_xticklabels([])\r\n",
        "    plt.show()\r\n",
        "\r\n",
        "    output = model(X).detach().numpy()\r\n",
        "    _, axs = plt.subplots(1, 10)\r\n",
        "    for img, ax in zip(output, axs):\r\n",
        "        ax.imshow(np.squeeze(img), cmap='gray', vmin=0, vmax=255)\r\n",
        "        ax.set_yticklabels([])\r\n",
        "        ax.set_xticklabels([])\r\n",
        "    plt.show()"
      ],
      "execution_count": 11,
      "outputs": []
    },
    {
      "cell_type": "code",
      "metadata": {
        "colab": {
          "base_uri": "https://localhost:8080/",
          "height": 109
        },
        "id": "U8fWbL0GbvkG",
        "outputId": "a5f8180d-a962-455a-db4e-21006dc9b151"
      },
      "source": [
        "visualise_results(train_images)"
      ],
      "execution_count": 12,
      "outputs": [
        {
          "output_type": "display_data",
          "data": {
            "image/png": "[encoded data removed]",
            "text/plain": [
              "<Figure size 432x288 with 10 Axes>"
            ]
          },
          "metadata": {
            "tags": [],
            "needs_background": "light"
          }
        },
        {
          "output_type": "display_data",
          "data": {
            "image/png": "[encoded data removed]",
            "text/plain": [
              "<Figure size 432x288 with 10 Axes>"
            ]
          },
          "metadata": {
            "tags": [],
            "needs_background": "light"
          }
        }
      ]
    },
    {
      "cell_type": "code",
      "metadata": {
        "colab": {
          "base_uri": "https://localhost:8080/",
          "height": 17
        },
        "id": "VduMOEoZ53Uv",
        "outputId": "1a50af3f-0e75-4a88-8cdb-c8c960de4c39"
      },
      "source": [
        "from google.colab import files\r\n",
        "torch.save(model, 'VanillaAutoEncoder.ipynb')\r\n",
        "files.download('VanillaAutoEncoder.ipynb')"
      ],
      "execution_count": 13,
      "outputs": [
        {
          "output_type": "display_data",
          "data": {
            "application/javascript": [
              "\n",
              "    async function download(id, filename, size) {\n",
              "      if (!google.colab.kernel.accessAllowed) {\n",
              "        return;\n",
              "      }\n",
              "      const div = document.createElement('div');\n",
              "      const label = document.createElement('label');\n",
              "      label.textContent = `Downloading \"${filename}\": `;\n",
              "      div.appendChild(label);\n",
              "      const progress = document.createElement('progress');\n",
              "      progress.max = size;\n",
              "      div.appendChild(progress);\n",
              "      document.body.appendChild(div);\n",
              "\n",
              "      const buffers = [];\n",
              "      let downloaded = 0;\n",
              "\n",
              "      const channel = await google.colab.kernel.comms.open(id);\n",
              "      // Send a message to notify the kernel that we're ready.\n",
              "      channel.send({})\n",
              "\n",
              "      for await (const message of channel.messages) {\n",
              "        // Send a message to notify the kernel that we're ready.\n",
              "        channel.send({})\n",
              "        if (message.buffers) {\n",
              "          for (const buffer of message.buffers) {\n",
              "            buffers.push(buffer);\n",
              "            downloaded += buffer.byteLength;\n",
              "            progress.value = downloaded;\n",
              "          }\n",
              "        }\n",
              "      }\n",
              "      const blob = new Blob(buffers, {type: 'application/binary'});\n",
              "      const a = document.createElement('a');\n",
              "      a.href = window.URL.createObjectURL(blob);\n",
              "      a.download = filename;\n",
              "      div.appendChild(a);\n",
              "      a.click();\n",
              "      div.remove();\n",
              "    }\n",
              "  "
            ],
            "text/plain": [
              "<IPython.core.display.Javascript object>"
            ]
          },
          "metadata": {
            "tags": []
          }
        },
        {
          "output_type": "display_data",
          "data": {
            "application/javascript": [
              "download(\"download_78bcad1a-692b-4a35-86f0-737bfa34cb36\", \"VanillaAutoEncoder.ipynb\", 43663)"
            ],
            "text/plain": [
              "<IPython.core.display.Javascript object>"
            ]
          },
          "metadata": {
            "tags": []
          }
        }
      ]
    },
    {
      "cell_type": "code",
      "metadata": {
        "id": "3G0XmLwqXTEB"
      },
      "source": [
        ""
      ],
      "execution_count": null,
      "outputs": []
    }
  ]
}